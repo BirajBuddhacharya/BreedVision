{
 "cells": [
  {
   "cell_type": "code",
   "execution_count": null,
   "metadata": {},
   "outputs": [
    {
     "name": "stdout",
     "output_type": "stream",
     "text": [
      "[0, 1, 512, 19683, 262144, 1953125, 10077696, 40353607, 134217728, 387420489, 1000000000, 2357947691, 5159780352, 10604499373, 20661046784, 38443359375, 68719476736, 118587876497, 198359290368, 322687697779, 512000000000, 794280046581, 1207269217792, 1801152661463, 2641807540224, 3814697265625, 5429503678976, 7625597484987, 10578455953408, 14507145975869, 19683000000000, 26439622160671, 35184372088832, 46411484401953, 60716992766464, 78815638671875, 101559956668416, 129961739795077, 165216101262848, 208728361158759, 262144000000000, 327381934393961, 406671383849472, 502592611936843, 618121839509504, 756680642578125, 922190162669056, 1119130473102767, 1352605460594688, 1628413597910449, 1953125000000000, 2334165173090451, 2779905883635712, 3299763591802133, 3904305912313344, 4605366583984375, 5416169448144896, 6351461955384057, 7427658739644928, 8662995818654939, 10077696000000000, 11694146092834141, 13537086546263552, 15633814156853823, 18014398509481984, 20711912837890625, 23762680013799936, 27206534396294947, 31087100296429568, 35452087835576229, 40353607000000000, 45848500718449031, 51998697814228992, 58871586708267913, 66540410775079424, 75084686279296875, 84590643846578176, 95151694449171437, 106868920913284608, 119851595982618319]\n"
     ]
    }
   ],
   "source": [
    "import asyncio\n",
    "import nest_asyncio\n",
    "\n",
    "nest_asyncio.apply()\n",
    "\n",
    "async def calcCube(x): \n",
    "    cube = x**9\n",
    "    await asyncio.sleep(2)\n",
    "    return cube\n",
    "\n",
    "async def main():\n",
    "    tasks = [calcCube(i) for i in range(80)]\n",
    "    results = await asyncio.gather(*tasks)\n",
    "    print(results)\n",
    "\n",
    "await main()"
   ]
  },
  {
   "cell_type": "code",
   "execution_count": 10,
   "metadata": {},
   "outputs": [
    {
     "ename": "IndexError",
     "evalue": "list index out of range",
     "output_type": "error",
     "traceback": [
      "\u001b[1;31m---------------------------------------------------------------------------\u001b[0m",
      "\u001b[1;31mIndexError\u001b[0m                                Traceback (most recent call last)",
      "Cell \u001b[1;32mIn[10], line 3\u001b[0m\n\u001b[0;32m      1\u001b[0m x \u001b[38;5;241m=\u001b[39m [\u001b[38;5;241m1\u001b[39m]\n\u001b[0;32m      2\u001b[0m x\u001b[38;5;241m.\u001b[39mpop()\n\u001b[1;32m----> 3\u001b[0m x[\u001b[38;5;241m-\u001b[39m\u001b[38;5;241m1\u001b[39m]\n",
      "\u001b[1;31mIndexError\u001b[0m: list index out of range"
     ]
    }
   ],
   "source": [
    "x = [1]\n",
    "x.pop()\n",
    "x[-1]"
   ]
  },
  {
   "cell_type": "code",
   "execution_count": null,
   "metadata": {},
   "outputs": [],
   "source": []
  }
 ],
 "metadata": {
  "kernelspec": {
   "display_name": "base",
   "language": "python",
   "name": "python3"
  },
  "language_info": {
   "codemirror_mode": {
    "name": "ipython",
    "version": 3
   },
   "file_extension": ".py",
   "mimetype": "text/x-python",
   "name": "python",
   "nbconvert_exporter": "python",
   "pygments_lexer": "ipython3",
   "version": "3.12.4"
  }
 },
 "nbformat": 4,
 "nbformat_minor": 2
}
