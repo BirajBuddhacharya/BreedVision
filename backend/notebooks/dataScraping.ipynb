{
 "cells": [
  {
   "cell_type": "code",
   "execution_count": 1,
   "metadata": {},
   "outputs": [],
   "source": [
    "import requests\n",
    "import os\n",
    "from time import sleep \n",
    "from dotenv import load_dotenv\n",
    "from concurrent.futures import ThreadPoolExecutor\n",
    "\n",
    "load_dotenv()\n",
    "# Google API details\n",
    "API_KEY = os.getenv('API_KEY')\n",
    "CX = os.getenv('CX')\n",
    "QUERY = \"german_shepard\"  # Change the search keyword\n",
    "NUM_IMAGES = 20      # Number of images to fetch\n",
    "save_dir_path = '../data/raw/german_sheprad'"
   ]
  },
  {
   "cell_type": "code",
   "execution_count": 2,
   "metadata": {},
   "outputs": [
    {
     "name": "stdout",
     "output_type": "stream",
     "text": [
      "{'error': {'code': 400, 'message': 'Request contains an invalid argument.', 'errors': [{'message': 'Request contains an invalid argument.', 'domain': 'global', 'reason': 'badRequest'}], 'status': 'INVALID_ARGUMENT'}}\n"
     ]
    },
    {
     "ename": "KeyError",
     "evalue": "'items'",
     "output_type": "error",
     "traceback": [
      "\u001b[1;31m---------------------------------------------------------------------------\u001b[0m",
      "\u001b[1;31mKeyError\u001b[0m                                  Traceback (most recent call last)",
      "Cell \u001b[1;32mIn[2], line 15\u001b[0m\n\u001b[0;32m     12\u001b[0m os\u001b[38;5;241m.\u001b[39mmakedirs(save_dir_path, exist_ok\u001b[38;5;241m=\u001b[39m\u001b[38;5;28;01mTrue\u001b[39;00m)\n\u001b[0;32m     14\u001b[0m \u001b[38;5;66;03m# Download images\u001b[39;00m\n\u001b[1;32m---> 15\u001b[0m \u001b[38;5;28;01mfor\u001b[39;00m i, item \u001b[38;5;129;01min\u001b[39;00m \u001b[38;5;28menumerate\u001b[39m(data[\u001b[38;5;124m\"\u001b[39m\u001b[38;5;124mitems\u001b[39m\u001b[38;5;124m\"\u001b[39m]):\n\u001b[0;32m     16\u001b[0m     img_url \u001b[38;5;241m=\u001b[39m item[\u001b[38;5;124m\"\u001b[39m\u001b[38;5;124mlink\u001b[39m\u001b[38;5;124m\"\u001b[39m]\n\u001b[0;32m     17\u001b[0m     img_data \u001b[38;5;241m=\u001b[39m requests\u001b[38;5;241m.\u001b[39mget(img_url)\u001b[38;5;241m.\u001b[39mcontent\n",
      "\u001b[1;31mKeyError\u001b[0m: 'items'"
     ]
    }
   ],
   "source": [
    "# Google Custom Search API URL\n",
    "url = f\"https://www.googleapis.com/customsearch/v1?q={QUERY}&cx={CX}&key={API_KEY}&searchType=image&num={NUM_IMAGES}\"\n",
    "\n",
    "# Fetch images\n",
    "response = requests.get(url)\n",
    "data = response.json()\n",
    "\n",
    "print(data)\n",
    "exit(1)\n",
    "\n",
    "# Create folder to save images\n",
    "os.makedirs(save_dir_path, exist_ok=True)\n",
    "\n",
    "# Download images\n",
    "for i, item in enumerate(data[\"items\"]):\n",
    "    img_url = item[\"link\"]\n",
    "    img_data = requests.get(img_url).content\n",
    "\n",
    "    with open(f\"{save_dir_path}/{QUERY}_{i+1}.jpg\", \"wb\") as f:\n",
    "        f.write(img_data)\n",
    "        print(f\"Downloaded {QUERY}_{i+1}.jpg\")\n",
    "\n",
    "print(\"Image download complete!\")"
   ]
  },
  {
   "cell_type": "code",
   "execution_count": null,
   "metadata": {},
   "outputs": [],
   "source": []
  }
 ],
 "metadata": {
  "kernelspec": {
   "display_name": "base",
   "language": "python",
   "name": "python3"
  },
  "language_info": {
   "codemirror_mode": {
    "name": "ipython",
    "version": 3
   },
   "file_extension": ".py",
   "mimetype": "text/x-python",
   "name": "python",
   "nbconvert_exporter": "python",
   "pygments_lexer": "ipython3",
   "version": "3.12.4"
  }
 },
 "nbformat": 4,
 "nbformat_minor": 2
}
