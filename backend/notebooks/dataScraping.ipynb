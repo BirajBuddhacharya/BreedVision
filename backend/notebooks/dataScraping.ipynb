{
 "cells": [
  {
   "cell_type": "code",
   "execution_count": 1,
   "metadata": {},
   "outputs": [],
   "source": [
    "import requests\n",
    "import os\n",
    "from time import sleep \n",
    "from dotenv import load_dotenv\n",
    "from concurrent.futures import ThreadPoolExecutor\n",
    "\n",
    "load_dotenv()\n",
    "# Google API details\n",
    "API_KEY = os.getenv('API_KEY')\n",
    "CX = os.getenv('CX')\n",
    "QUERY = \"german_shepard\"  # Change the search keyword\n",
    "NUM_IMAGES = 20      # Number of images to fetch\n",
    "save_dir_path = '../data/raw/german_sheprad'"
   ]
  },
  {
   "cell_type": "code",
   "execution_count": 5,
   "metadata": {},
   "outputs": [
    {
     "name": "stdout",
     "output_type": "stream",
     "text": [
      "[{'kind': 'customsearch#result', 'title': 'German Shepard | Prehistoric Earth: A Natural History Wiki | Fandom', 'htmlTitle': '<b>German Shepard</b> | Prehistoric Earth: A Natural History Wiki | Fandom', 'link': 'https://static.wikia.nocookie.net/prehistoric-earth-a-natural-history/images/d/d0/German_Shepherd_-_DSC_0346_%2810096362833%29.jpg/revision/latest?cb=20230403132036', 'displayLink': 'prehistoric-earth-a-natural-history.fandom.com', 'snippet': 'German Shepard | Prehistoric Earth: A Natural History Wiki | Fandom', 'htmlSnippet': '<b>German Shepard</b> | Prehistoric Earth: A Natural History Wiki | Fandom', 'mime': 'image/', 'fileFormat': 'image/', 'image': {'contextLink': 'https://prehistoric-earth-a-natural-history.fandom.com/wiki/German_Shepard', 'height': 485, 'width': 583, 'byteSize': 113852, 'thumbnailLink': 'https://encrypted-tbn0.gstatic.com/images?q=tbn:ANd9GcR32SZSSovVQmhNTH7cuVx-0pNYV1iOTojSUOj3GDqIoOiDvhBryg0tU-M&s', 'thumbnailHeight': 111, 'thumbnailWidth': 134}}, {'kind': 'customsearch#result', 'title': 'Amazon.com: German Shepard Dog Animal Wall Decor Art Print Poster ...', 'htmlTitle': 'Amazon.com: <b>German Shepard</b> Dog Animal Wall Decor Art Print Poster ...', 'link': 'https://m.media-amazon.com/images/I/81NepM0s6VL._AC_UF894,1000_QL80_.jpg', 'displayLink': 'www.amazon.com', 'snippet': 'Amazon.com: German Shepard Dog Animal Wall Decor Art Print Poster ...', 'htmlSnippet': 'Amazon.com: <b>German Shepard</b> Dog Animal Wall Decor Art Print Poster ...', 'mime': 'image/jpeg', 'fileFormat': 'image/jpeg', 'image': {'contextLink': 'https://www.amazon.com/German-Shepard-Animal-Decor-Poster/dp/B008H2VIV8', 'height': 1000, 'width': 802, 'byteSize': 76963, 'thumbnailLink': 'https://encrypted-tbn0.gstatic.com/images?q=tbn:ANd9GcS394w8Cncxob9aVDczNf8Kn-LA1AeC6n9TDls5c3IUGgYQN6Z6PKa9_EY&s', 'thumbnailHeight': 149, 'thumbnailWidth': 119}}, {'kind': 'customsearch#result', 'title': 'German Shepard | Prehistoric Earth: A Natural History Wiki | Fandom', 'htmlTitle': '<b>German Shepard</b> | Prehistoric Earth: A Natural History Wiki | Fandom', 'link': 'https://static.wikia.nocookie.net/prehistoric-earth-a-natural-history/images/d/d0/German_Shepherd_-_DSC_0346_%2810096362833%29.jpg/revision/latest/thumbnail/width/360/height/360?cb=20230403132036', 'displayLink': 'prehistoric-earth-a-natural-history.fandom.com', 'snippet': 'German Shepard | Prehistoric Earth: A Natural History Wiki | Fandom', 'htmlSnippet': '<b>German Shepard</b> | Prehistoric Earth: A Natural History Wiki | Fandom', 'mime': 'image/', 'fileFormat': 'image/', 'image': {'contextLink': 'https://prehistoric-earth-a-natural-history.fandom.com/wiki/German_Shepard', 'height': 299, 'width': 360, 'byteSize': 25459, 'thumbnailLink': 'https://encrypted-tbn0.gstatic.com/images?q=tbn:ANd9GcRwU24P9ceDrFrj6LBu32YOU7nN0W18pQ-lzSwnCMQPBlYmZdxeQJofOg&s', 'thumbnailHeight': 100, 'thumbnailWidth': 121}}, {'kind': 'customsearch#result', 'title': 'Shelter said black and tan Coonhound/german Shepard mix. What am I ...', 'htmlTitle': 'Shelter said black and tan Coonhound/<b>german Shepard</b> mix. What am I ...', 'link': 'https://preview.redd.it/shelter-said-black-and-tan-coonhound-german-shepard-mix-v0-4atdvtipzeae1.jpg?width=640&crop=smart&auto=webp&s=5dcda6243f0cb06db30eaba3199fafd9b0b1ed64', 'displayLink': 'www.reddit.com', 'snippet': 'Shelter said black and tan Coonhound/german Shepard mix. What am I ...', 'htmlSnippet': 'Shelter said black and tan Coonhound/<b>german Shepard</b> mix. What am I ...', 'mime': 'image/jpeg', 'fileFormat': 'image/jpeg', 'image': {'contextLink': 'https://www.reddit.com/r/IDmydog/comments/1hr75n1/shelter_said_black_and_tan_coonhoundgerman/', 'height': 688, 'width': 640, 'byteSize': 142894, 'thumbnailLink': 'https://encrypted-tbn0.gstatic.com/images?q=tbn:ANd9GcRUlmRztB3oUfefl7-NtlsvbWe9n9h2IJfqdyHzZiedzkY55u4oiY1HApU&s', 'thumbnailHeight': 139, 'thumbnailWidth': 129}}, {'kind': 'customsearch#result', 'title': 'German Shepard Dog | Beast Wars Transformers Wiki | Fandom', 'htmlTitle': '<b>German Shepard</b> Dog | Beast Wars Transformers Wiki | Fandom', 'link': 'https://static.wikia.nocookie.net/beastwarstransformers/images/e/e5/German-shepherd1.jpg/revision/latest?cb=20120229172503', 'displayLink': 'beastwarstransformers.fandom.com', 'snippet': 'German Shepard Dog | Beast Wars Transformers Wiki | Fandom', 'htmlSnippet': '<b>German Shepard</b> Dog | Beast Wars Transformers Wiki | Fandom', 'mime': 'image/', 'fileFormat': 'image/', 'image': {'contextLink': 'https://beastwarstransformers.fandom.com/wiki/German_Shepard_Dog', 'height': 768, 'width': 1024, 'byteSize': 97366, 'thumbnailLink': 'https://encrypted-tbn0.gstatic.com/images?q=tbn:ANd9GcQl40wNf77JCjllCZFnmFtAGo4wISQyi9YGZ9g_rjybzvOGIp6vMYfvx_w&s', 'thumbnailHeight': 113, 'thumbnailWidth': 150}}, {'kind': 'customsearch#result', 'title': 'Sitting German Shepard dog stock photo. Image of canine - 3226054', 'htmlTitle': 'Sitting <b>German Shepard</b> dog stock photo. Image of canine - 3226054', 'link': 'https://thumbs.dreamstime.com/z/sitting-german-shepard-dog-3226054.jpg', 'displayLink': 'www.dreamstime.com', 'snippet': 'Sitting German Shepard dog stock photo. Image of canine - 3226054', 'htmlSnippet': 'Sitting <b>German Shepard</b> dog stock photo. Image of canine - 3226054', 'mime': 'image/jpeg', 'fileFormat': 'image/jpeg', 'image': {'contextLink': 'https://www.dreamstime.com/stock-images-sitting-german-shepard-dog-image3226054', 'height': 1690, 'width': 1065, 'byteSize': 87128, 'thumbnailLink': 'https://encrypted-tbn0.gstatic.com/images?q=tbn:ANd9GcR_e1yxrxBR0dSVBc7U7casrUUBtKXkgTJMs3hP5HXn0BbJLI6Ax9B6iw&s', 'thumbnailHeight': 150, 'thumbnailWidth': 95}}, {'kind': 'customsearch#result', 'title': '190+ German Shepard Service Dog Stock Photos, Pictures & Royalty ...', 'htmlTitle': '190+ <b>German Shepard</b> Service Dog Stock Photos, Pictures &amp; Royalty ...', 'link': 'https://media.istockphoto.com/id/1918837996/photo/obedient-german-shepard-service-dog-outside-with-his-owner.jpg?s=612x612&w=0&k=20&c=awuXPaVHaWM5bVYIZWIloBchhRdBsAf81eM3dzBzUDc=', 'displayLink': 'www.istockphoto.com', 'snippet': '190+ German Shepard Service Dog Stock Photos, Pictures & Royalty ...', 'htmlSnippet': '190+ <b>German Shepard</b> Service Dog Stock Photos, Pictures &amp; Royalty ...', 'mime': 'image/jpeg', 'fileFormat': 'image/jpeg', 'image': {'contextLink': 'https://www.istockphoto.com/photos/german-shepard-service-dog', 'height': 408, 'width': 612, 'byteSize': 38546, 'thumbnailLink': 'https://encrypted-tbn0.gstatic.com/images?q=tbn:ANd9GcR44A2AW83BSOU2ca6LKTONvV1PNTS-UXUyDM0Rf59KRevXWn83cfgW3Q&s', 'thumbnailHeight': 91, 'thumbnailWidth': 136}}, {'kind': 'customsearch#result', 'title': 'Puppy of german shepard stock image. Image of shepard - 13535541', 'htmlTitle': 'Puppy of <b>german shepard</b> stock image. Image of shepard - 13535541', 'link': 'https://thumbs.dreamstime.com/z/puppy-german-shepard-13535541.jpg', 'displayLink': 'www.dreamstime.com', 'snippet': 'Puppy of german shepard stock image. Image of shepard - 13535541', 'htmlSnippet': 'Puppy of <b>german shepard</b> stock image. Image of shepard - 13535541', 'mime': 'image/jpeg', 'fileFormat': 'image/jpeg', 'image': {'contextLink': 'https://www.dreamstime.com/stock-image-puppy-german-shepard-image13535541', 'height': 1690, 'width': 1600, 'byteSize': 115077, 'thumbnailLink': 'https://encrypted-tbn0.gstatic.com/images?q=tbn:ANd9GcQWsUtK1csVjLAZg-YYThube07w0pdm4SE3JbkSC2IP7vdJ3llAtHx7kTsV&s', 'thumbnailHeight': 150, 'thumbnailWidth': 142}}, {'kind': 'customsearch#result', 'title': 'German Shepard Dog Archives - Fundamentally Feline', 'htmlTitle': '<b>German Shepard</b> Dog Archives - Fundamentally Feline', 'link': 'https://www.fundamentallyfeline.com/wp-content/uploads/MG_9529-Copy.jpg', 'displayLink': 'www.fundamentallyfeline.com', 'snippet': 'German Shepard Dog Archives - Fundamentally Feline', 'htmlSnippet': '<b>German Shepard</b> Dog Archives - Fundamentally Feline', 'mime': 'image/jpeg', 'fileFormat': 'image/jpeg', 'image': {'contextLink': 'https://www.fundamentallyfeline.com/tag/german-shepard-dog/', 'height': 1500, 'width': 2250, 'byteSize': 168476, 'thumbnailLink': 'https://encrypted-tbn0.gstatic.com/images?q=tbn:ANd9GcRkr_oCHVEKD_jz2z45wiADpFz86by3T_FflzWtWF-epAfnU1GlWOUATpw&s', 'thumbnailHeight': 100, 'thumbnailWidth': 150}}, {'kind': 'customsearch#result', 'title': 'Amazon.com: German Shepard Dog Animal Wall Decor Art Print Poster ...', 'htmlTitle': 'Amazon.com: <b>German Shepard</b> Dog Animal Wall Decor Art Print Poster ...', 'link': 'https://m.media-amazon.com/images/I/81NepM0s6VL.jpg', 'displayLink': 'www.amazon.com', 'snippet': 'Amazon.com: German Shepard Dog Animal Wall Decor Art Print Poster ...', 'htmlSnippet': 'Amazon.com: <b>German Shepard</b> Dog Animal Wall Decor Art Print Poster ...', 'mime': 'image/jpeg', 'fileFormat': 'image/jpeg', 'image': {'contextLink': 'https://www.amazon.com/German-Shepard-Animal-Decor-Poster/dp/B008H2VIV8', 'height': 2560, 'width': 2045, 'byteSize': 287109, 'thumbnailLink': 'https://encrypted-tbn0.gstatic.com/images?q=tbn:ANd9GcTr684N6raXeUisqzHOC1I87GRLbCdJTj8sh64XZzpJWDb0rc-gheSbBk4&s', 'thumbnailHeight': 150, 'thumbnailWidth': 120}}]\n"
     ]
    }
   ],
   "source": [
    "# Google Custom Search API URL\n",
    "url = f\"https://www.googleapis.com/customsearch/v1?q={QUERY}&cx={CX}&key={API_KEY}&searchType=image&num={NUM_IMAGES}\"\n",
    "\n",
    "# Fetch images\n",
    "response = requests.get(url)\n",
    "data = response.json()\n",
    "\n",
    "print(data['items'])"
   ]
  },
  {
   "cell_type": "code",
   "execution_count": null,
   "metadata": {},
   "outputs": [],
   "source": [
    "\n",
    "# Create folder to save images\n",
    "os.makedirs(save_dir_path, exist_ok=True)\n",
    "\n",
    "# Download images\n",
    "for i, item in enumerate(data[\"items\"]):\n",
    "    img_url = item[\"link\"]\n",
    "    img_data = requests.get(img_url).content\n",
    "\n",
    "    with open(f\"{save_dir_path}/{QUERY}_{i+1}.jpg\", \"wb\") as f:\n",
    "        f.write(img_data)\n",
    "        print(f\"Downloaded {QUERY}_{i+1}.jpg\")\n",
    "\n",
    "print(\"Image download complete!\")"
   ]
  },
  {
   "cell_type": "code",
   "execution_count": null,
   "metadata": {},
   "outputs": [],
   "source": []
  }
 ],
 "metadata": {
  "kernelspec": {
   "display_name": "base",
   "language": "python",
   "name": "python3"
  },
  "language_info": {
   "codemirror_mode": {
    "name": "ipython",
    "version": 3
   },
   "file_extension": ".py",
   "mimetype": "text/x-python",
   "name": "python",
   "nbconvert_exporter": "python",
   "pygments_lexer": "ipython3",
   "version": "3.12.4"
  }
 },
 "nbformat": 4,
 "nbformat_minor": 2
}
